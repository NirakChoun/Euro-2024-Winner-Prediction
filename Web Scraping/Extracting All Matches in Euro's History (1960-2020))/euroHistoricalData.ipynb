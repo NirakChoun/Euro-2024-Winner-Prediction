{
 "cells": [
  {
   "cell_type": "code",
   "execution_count": 3,
   "metadata": {},
   "outputs": [
    {
     "name": "stdout",
     "output_type": "stream",
     "text": [
      "The number of matches in 1960 is: 4\n",
      "The number of matches in 1964 is: 4\n",
      "The number of matches in 1968 is: 5\n",
      "The number of matches in 1972 is: 4\n",
      "The number of matches in 1976 is: 4\n",
      "The number of matches in 1980 is: 14\n",
      "The number of matches in 1984 is: 15\n",
      "The number of matches in 1988 is: 15\n",
      "The number of matches in 1992 is: 15\n",
      "The number of matches in 1996 is: 31\n",
      "The number of matches in 2000 is: 31\n",
      "The number of matches in 2004 is: 31\n",
      "The number of matches in 2008 is: 31\n",
      "The number of matches in 2012 is: 31\n",
      "The number of matches in 2016 is: 51\n",
      "The number of matches in 2020 is: 51\n",
      "<class 'int'>\n"
     ]
    }
   ],
   "source": [
    "from bs4 import BeautifulSoup\n",
    "import pandas as pd\n",
    "import requests\n",
    "import lxml\n",
    "\n",
    "years = [1960, 1964, 1968, 1972, 1976, 1980, 1984, 1988, 1992, 1996, 2000, 2004, 2008, 2012, 2016, 2020]\n",
    "\n",
    "def getMatches(year):\n",
    "    website = f\"https://en.wikipedia.org/wiki/UEFA_Euro_{year}\"\n",
    "    response = requests.get(website)\n",
    "    content = response.text\n",
    "    soup = BeautifulSoup(content, \"lxml\")\n",
    "\n",
    "    allMatches = soup.find_all(\"div\", class_=\"footballbox\")\n",
    "\n",
    "    homeTeams = []\n",
    "    score = []\n",
    "    awayTeams = []\n",
    "\n",
    "    for match in allMatches:\n",
    "        homeTeams.append(match.find(\"th\", class_=\"fhome\").text)\n",
    "        score.append(match.find(\"th\", class_=\"fscore\").text)\n",
    "        awayTeams.append(match.find(\"th\", class_=\"faway\").text)\n",
    "\n",
    "    dictEuro = {\"Home\" : homeTeams, \"Score\" : score, \"Away\" : awayTeams, \"Year\" : year}\n",
    "    df_euro = pd.DataFrame(dictEuro)\n",
    "    return df_euro\n",
    "\n",
    "# Get All Matches in Euro's History\n",
    "euro = [getMatches(year) for year in years]\n",
    "df_euro = pd.concat(euro, ignore_index=True)\n",
    "df_euro.to_csv(\"euro_historical_data.csv\", index=False)\n",
    "\n",
    "# Get Euro 2024 Fixtures\n",
    "df_euro_2024 = getMatches(2024)\n",
    "df_euro_2024.to_csv(\"euro_2024_fixtures.csv\", index=False)"
   ]
  },
  {
   "cell_type": "code",
   "execution_count": 4,
   "metadata": {},
   "outputs": [
    {
     "name": "stdout",
     "output_type": "stream",
     "text": [
      "The sum of my data is 337\n",
      "The sum of Wikipedia data is 337\n",
      "Hence, my script extracted all the matches from wikipedia correctly!\n"
     ]
    }
   ],
   "source": [
    "# Validate that my script extracted all the matches from Wikipedia\n",
    "# Compare the sum of my data to Wikipedia data\n",
    "def totalMatchesInYear(year):\n",
    "    website = f\"https://en.wikipedia.org/wiki/UEFA_Euro_{year}\"\n",
    "    response = requests.get(website)\n",
    "    content = response.text\n",
    "    soup = BeautifulSoup(content, \"lxml\")\n",
    "    totalMatches = 0\n",
    "\n",
    "    matchesPlayed = soup.find_all(\"td\", class_=\"infobox-data\")\n",
    "\n",
    "    if (year >= 1960 and year < 1984):\n",
    "        return int(matchesPlayed[8].text)\n",
    "\n",
    "    # Return from year 1984 onwards\n",
    "    return int(matchesPlayed[6].text)\n",
    "\n",
    "myData = 0;\n",
    "wikiData = 0;\n",
    "\n",
    "for year in years:\n",
    "    myMatches = df_euro[df_euro['Year'] == year].shape[0]\n",
    "    myData += myMatches\n",
    "    wikiMatches = totalMatchesInYear(year)\n",
    "    wikiData += wikiMatches\n",
    "\n",
    "print(f\"The sum of my data is {myData}\")\n",
    "print(f\"The sum of Wikipedia data is {wikiData}\")\n",
    "\n",
    "if (myData == wikiData):\n",
    "    print(\"Hence, my script extracted all the matches from wikipedia correctly!\")\n",
    "else:\n",
    "    print(\"My script did not extract all the matches from wikipedia correctly!\")"
   ]
  }
 ],
 "metadata": {
  "kernelspec": {
   "display_name": "Python 3",
   "language": "python",
   "name": "python3"
  },
  "language_info": {
   "codemirror_mode": {
    "name": "ipython",
    "version": 3
   },
   "file_extension": ".py",
   "mimetype": "text/x-python",
   "name": "python",
   "nbconvert_exporter": "python",
   "pygments_lexer": "ipython3",
   "version": "3.11.4"
  }
 },
 "nbformat": 4,
 "nbformat_minor": 2
}
