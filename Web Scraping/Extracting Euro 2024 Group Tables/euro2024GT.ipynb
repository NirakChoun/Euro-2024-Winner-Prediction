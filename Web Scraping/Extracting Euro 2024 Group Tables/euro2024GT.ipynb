{
 "cells": [
  {
   "cell_type": "code",
   "execution_count": 30,
   "metadata": {},
   "outputs": [],
   "source": [
    "import pandas as pd\n",
    "from string import ascii_uppercase as alphabet\n",
    "import pickle\n",
    "\n",
    "groupTables = pd.read_html(\"https://en.wikipedia.org/wiki/UEFA_Euro_2024\")\n",
    "\n",
    "groupTables[18]\n",
    "groupTables[25]\n",
    "groupTables[32]\n",
    "groupTables[39]\n",
    "groupTables[46]\n",
    "groupTables[53]\n",
    "\n",
    "dictTable = {}\n",
    "\n",
    "for letter, i in zip(alphabet, range(18, 60, 7)):\n",
    "    df = groupTables[i]\n",
    "    df.rename(columns={df.columns[1]: \"Team\"}, inplace=True)\n",
    "    df.pop(\"Qualification\")\n",
    "    dictTable[f\"Group {letter}\"] = df\n",
    "\n",
    "with open(\"dictTable\", \"wb\") as output:\n",
    "    pickle.dump(dictTable, output)\n",
    "    "
   ]
  }
 ],
 "metadata": {
  "kernelspec": {
   "display_name": "Python 3",
   "language": "python",
   "name": "python3"
  },
  "language_info": {
   "codemirror_mode": {
    "name": "ipython",
    "version": 3
   },
   "file_extension": ".py",
   "mimetype": "text/x-python",
   "name": "python",
   "nbconvert_exporter": "python",
   "pygments_lexer": "ipython3",
   "version": "3.11.4"
  }
 },
 "nbformat": 4,
 "nbformat_minor": 2
}
