{
 "cells": [
  {
   "cell_type": "code",
   "execution_count": 39,
   "metadata": {},
   "outputs": [],
   "source": [
    "import pandas as pd \n",
    "import pickle\n",
    "from scipy.stats import poisson\n",
    "dictTable = pickle.load(open(\"dictTable\", \"rb\"))\n",
    "df_historical_data = pd.read_csv(\"clean_euro_historical_data.csv\")\n",
    "df_fixture = pd.read_csv(\"clean_euro_2024_fixtures.csv\")\n",
    "\n",
    "# Delete (H) from Germany\n",
    "rename_mappings = {\n",
    "    'Germany (H)': 'Germany'\n",
    "}\n",
    "for group, df in dictTable.items():\n",
    "    dictTable[group]['Team'] = df['Team'].replace(rename_mappings)\n",
    "\n",
    "df_home = df_historical_data[[\"HomeTeam\", \"HomeGoals\", \"AwayGoals\"]]\n",
    "df_away = df_historical_data[[\"AwayTeam\", \"HomeGoals\", \"AwayGoals\"]]\n",
    "\n",
    "df_home = df_home.rename(columns={\"HomeTeam\" : \"Team\", \"HomeGoals\" : \"GoalsScored\", \"AwayGoals\" : \"GoalsConceded\"})\n",
    "df_away = df_away.rename(columns={\"AwayTeam\" : \"Team\", \"HomeGoals\" : \"GoalsConceded\", \"AwayGoals\" : \"GoalsScored\"})\n",
    "\n",
    "df_team_strength = pd.concat([df_home, df_away], ignore_index=True).groupby(\"Team\").mean()\n",
    "\n",
    "def predict_points(home, away):\n",
    "    if home in df_team_strength.index and away in df_team_strength.index:\n",
    "        lamb_home = df_team_strength.at[home, \"GoalsScored\"] * df_team_strength.at[away, \"GoalsConceded\"]\n",
    "        lamb_away = df_team_strength.at[away, \"GoalsScored\"] * df_team_strength.at[home, \"GoalsConceded\"]\n",
    "        prob_home = 0\n",
    "        prob_away = 0\n",
    "        prob_draw = 0\n",
    "        for x in range(0, 11):\n",
    "            for y in range(0, 11):\n",
    "                p = poisson.pmf(x, lamb_home) * poisson.pmf(y, lamb_away)\n",
    "                if x == y:\n",
    "                    prob_draw += p\n",
    "                elif x > y:\n",
    "                    prob_home += p\n",
    "                else:\n",
    "                    prob_away += p\n",
    "        \n",
    "        points_home = 3 * prob_home + prob_draw\n",
    "        points_away = 3 * prob_away + prob_draw\n",
    "        return (points_home, points_away)\n",
    "    else :\n",
    "        return (0, 0)\n",
    "\n",
    "\n"
   ]
  },
  {
   "cell_type": "markdown",
   "metadata": {},
   "source": [
    "# Divide Fixtures Into Stages"
   ]
  },
  {
   "cell_type": "code",
   "execution_count": 38,
   "metadata": {},
   "outputs": [],
   "source": [
    "df_fixture_group_stage = df_fixture[:36].copy()\n",
    "df_fixture_knockout_stage = df_fixture[36:44].copy()\n",
    "df_fixture_quarter_finals = df_fixture[44:48].copy()\n",
    "df_fixture_semi_finals = df_fixture[48:50].copy()\n",
    "df_fixture_final = df_fixture[50:].copy()"
   ]
  },
  {
   "cell_type": "markdown",
   "metadata": {},
   "source": [
    "# Group Stage Prediction"
   ]
  },
  {
   "cell_type": "code",
   "execution_count": 41,
   "metadata": {},
   "outputs": [
    {
     "name": "stdout",
     "output_type": "stream",
     "text": [
      "Group A Standings:\n",
      "       Team  Pts\n",
      "    Germany 11.0\n",
      "    Hungary  6.0\n",
      "Switzerland  6.0\n",
      "   Scotland  5.0\n",
      "\n",
      "------------------------------\n",
      "\n",
      "Group B Standings:\n",
      "   Team  Pts\n",
      "  Spain  9.0\n",
      "  Italy  9.0\n",
      "Croatia  6.0\n",
      "Albania  2.0\n",
      "\n",
      "------------------------------\n",
      "\n",
      "Group C Standings:\n",
      "    Team  Pts\n",
      " England  6.0\n",
      " Denmark  3.0\n",
      "Slovenia  3.0\n",
      "  Serbia  0.0\n",
      "\n",
      "------------------------------\n",
      "\n",
      "Group D Standings:\n",
      "       Team  Pts\n",
      "Netherlands 11.0\n",
      "     France  9.0\n",
      "     Poland  4.0\n",
      "    Austria  3.0\n",
      "\n",
      "------------------------------\n",
      "\n",
      "Group E Standings:\n",
      "    Team  Pts\n",
      " Belgium 13.0\n",
      " Romania  6.0\n",
      " Ukraine  5.0\n",
      "Slovakia  5.0\n",
      "\n",
      "------------------------------\n",
      "\n",
      "Group F Standings:\n",
      "          Team  Pts\n",
      "      Portugal  7.0\n",
      "Czech Republic  5.0\n",
      "        Turkey  1.0\n",
      "       Georgia  0.0\n",
      "\n",
      "------------------------------\n",
      "\n"
     ]
    }
   ],
   "source": [
    "\n",
    "# Predict Group Stage\n",
    "for group in dictTable:\n",
    "    teams_in_group = dictTable[group][\"Team\"].values\n",
    "    df_fixture_group_6 = df_fixture_group_stage[df_fixture_group_stage[\"Home\"].isin(teams_in_group)]\n",
    "    for index, row in df_fixture_group_6.iterrows():\n",
    "        home, away = row[\"Home\"], row[\"Away\"]\n",
    "        points_home, points_away = predict_points(home, away)\n",
    "        dictTable[group].loc[dictTable[group][\"Team\"] == home, \"Pts\"] += int(points_home)\n",
    "        dictTable[group].loc[dictTable[group][\"Team\"] == away, \"Pts\"] += int(points_away)\n",
    "\n",
    "    dictTable[group] = dictTable[group].sort_values(\"Pts\", ascending=False).reset_index()\n",
    "    dictTable[group] = dictTable[group][[\"Team\", \"Pts\"]]\n",
    "    dictTable[group] = dictTable[group].round(0)\n",
    "\n",
    "# Print results neatly\n",
    "for group, standings in dictTable.items():\n",
    "    print(f\"{group} Standings:\")\n",
    "    print(standings.to_string(index=False))\n",
    "    print(\"\\n\" + \"-\"*30 + \"\\n\")"
   ]
  },
  {
   "cell_type": "markdown",
   "metadata": {},
   "source": [
    "## Ranking of Third-placed Teams that Advances through"
   ]
  },
  {
   "cell_type": "code",
   "execution_count": 23,
   "metadata": {},
   "outputs": [
    {
     "name": "stdout",
     "output_type": "stream",
     "text": [
      "['Switzerland', 'Croatia', 'Poland', 'Ukraine']\n"
     ]
    }
   ],
   "source": [
    "# Identify the best third-placed teams\n",
    "third_placed_teams = []\n",
    "for group, df in dictTable.items():\n",
    "    third_place_team = df.iloc[2]\n",
    "    third_placed_teams.append((group, third_place_team['Team'], third_place_team['Pts']))\n",
    "\n",
    "# Sort by points (and other criteria if necessary) to get the best four\n",
    "third_placed_teams.sort(key=lambda x: x[2], reverse=True)\n",
    "best_third_placed = [team[1] for team in third_placed_teams[:4]]\n",
    "\n",
    "# Define possible placeholders for the third-placed teams in the knockout stage fixtures\n",
    "knockout_mapping = {\n",
    "    \"3rd Group A/D/E/F\": best_third_placed[0] if len(best_third_placed) > 0 else None,\n",
    "    \"3rd Group D/E/F\": best_third_placed[1] if len(best_third_placed) > 1 else None,\n",
    "    \"3rd Group A/B/C/D\": best_third_placed[2] if len(best_third_placed) > 2 else None,\n",
    "    \"3rd Group A/B/C\": best_third_placed[3] if len(best_third_placed) > 3 else None\n",
    "}\n",
    "\n",
    "print(best_third_placed)"
   ]
  },
  {
   "cell_type": "markdown",
   "metadata": {},
   "source": [
    "# Helper Functions"
   ]
  },
  {
   "cell_type": "code",
   "execution_count": 19,
   "metadata": {},
   "outputs": [],
   "source": [
    "def get_winner(df_fixture_updated):\n",
    "    for index, row in df_fixture_updated.iterrows():\n",
    "        home, away = row[\"Home\"], row[\"Away\"]\n",
    "        points_home, points_away = predict_points(home, away)\n",
    "        if points_home > points_away:\n",
    "            winner = home\n",
    "        else:\n",
    "            winner = away\n",
    "        df_fixture_updated.loc[index, \"Winner\"] = winner\n",
    "    return df_fixture_updated\n",
    "\n",
    "\n",
    "\n",
    "def update_table(df_fixture_round_1, df_fixture_round_2):\n",
    "    for index, row in df_fixture_round_1.iterrows():\n",
    "        winner = df_fixture_round_1.loc[index, \"Winner\"]\n",
    "        match = df_fixture_round_1.loc[index, \"Score\"]\n",
    "        df_fixture_round_2.replace({f\"Winner {match}\" : winner}, inplace=True)\n",
    "    df_fixture_round_2[\"Winner\"] = \"?\"\n",
    "    return df_fixture_round_2"
   ]
  },
  {
   "cell_type": "markdown",
   "metadata": {},
   "source": [
    "# Round of 16"
   ]
  },
  {
   "cell_type": "code",
   "execution_count": 21,
   "metadata": {},
   "outputs": [
    {
     "data": {
      "text/html": [
       "<div>\n",
       "<style scoped>\n",
       "    .dataframe tbody tr th:only-of-type {\n",
       "        vertical-align: middle;\n",
       "    }\n",
       "\n",
       "    .dataframe tbody tr th {\n",
       "        vertical-align: top;\n",
       "    }\n",
       "\n",
       "    .dataframe thead th {\n",
       "        text-align: right;\n",
       "    }\n",
       "</style>\n",
       "<table border=\"1\" class=\"dataframe\">\n",
       "  <thead>\n",
       "    <tr style=\"text-align: right;\">\n",
       "      <th></th>\n",
       "      <th>Home</th>\n",
       "      <th>Score</th>\n",
       "      <th>Away</th>\n",
       "      <th>Year</th>\n",
       "      <th>Winner</th>\n",
       "    </tr>\n",
       "  </thead>\n",
       "  <tbody>\n",
       "    <tr>\n",
       "      <th>36</th>\n",
       "      <td>Hungary</td>\n",
       "      <td>Match 38</td>\n",
       "      <td>Italy</td>\n",
       "      <td>2024</td>\n",
       "      <td>Italy</td>\n",
       "    </tr>\n",
       "    <tr>\n",
       "      <th>37</th>\n",
       "      <td>Germany</td>\n",
       "      <td>Match 37</td>\n",
       "      <td>Denmark</td>\n",
       "      <td>2024</td>\n",
       "      <td>Germany</td>\n",
       "    </tr>\n",
       "    <tr>\n",
       "      <th>38</th>\n",
       "      <td>England</td>\n",
       "      <td>Match 40</td>\n",
       "      <td>Croatia</td>\n",
       "      <td>2024</td>\n",
       "      <td>England</td>\n",
       "    </tr>\n",
       "    <tr>\n",
       "      <th>39</th>\n",
       "      <td>Spain</td>\n",
       "      <td>Match 39</td>\n",
       "      <td>Switzerland</td>\n",
       "      <td>2024</td>\n",
       "      <td>Spain</td>\n",
       "    </tr>\n",
       "    <tr>\n",
       "      <th>40</th>\n",
       "      <td>France</td>\n",
       "      <td>Match 42</td>\n",
       "      <td>Romania</td>\n",
       "      <td>2024</td>\n",
       "      <td>France</td>\n",
       "    </tr>\n",
       "    <tr>\n",
       "      <th>41</th>\n",
       "      <td>Portugal</td>\n",
       "      <td>Match 41</td>\n",
       "      <td>Ukraine</td>\n",
       "      <td>2024</td>\n",
       "      <td>Portugal</td>\n",
       "    </tr>\n",
       "    <tr>\n",
       "      <th>42</th>\n",
       "      <td>Belgium</td>\n",
       "      <td>Match 43</td>\n",
       "      <td>Poland</td>\n",
       "      <td>2024</td>\n",
       "      <td>Belgium</td>\n",
       "    </tr>\n",
       "    <tr>\n",
       "      <th>43</th>\n",
       "      <td>Netherlands</td>\n",
       "      <td>Match 44</td>\n",
       "      <td>Czech Republic</td>\n",
       "      <td>2024</td>\n",
       "      <td>Netherlands</td>\n",
       "    </tr>\n",
       "  </tbody>\n",
       "</table>\n",
       "</div>"
      ],
      "text/plain": [
       "           Home     Score            Away  Year       Winner\n",
       "36      Hungary  Match 38           Italy  2024        Italy\n",
       "37      Germany  Match 37         Denmark  2024      Germany\n",
       "38      England  Match 40         Croatia  2024      England\n",
       "39        Spain  Match 39     Switzerland  2024        Spain\n",
       "40       France  Match 42         Romania  2024       France\n",
       "41     Portugal  Match 41         Ukraine  2024     Portugal\n",
       "42      Belgium  Match 43          Poland  2024      Belgium\n",
       "43  Netherlands  Match 44  Czech Republic  2024  Netherlands"
      ]
     },
     "execution_count": 21,
     "metadata": {},
     "output_type": "execute_result"
    }
   ],
   "source": [
    "# Update the knockout stage matchups with winners and runners-up\n",
    "for group in dictTable:\n",
    "    group_winner = dictTable[group].loc[0, \"Team\"]\n",
    "    runners_up = dictTable[group].loc[1, \"Team\"]\n",
    "    df_fixture_knockout_stage.replace({f\"Winner {group}\": group_winner,\n",
    "                                       f\"Runner-up {group}\": runners_up}, inplace=True)\n",
    "\n",
    "# Update the knockout stage matchups with best third-placed teams\n",
    "df_fixture_knockout_stage.replace(knockout_mapping, inplace=True)\n",
    "\n",
    "df_fixture_knockout_stage[\"Winner\"] = \"?\"\n",
    "\n",
    "get_winner(df_fixture_knockout_stage)"
   ]
  },
  {
   "cell_type": "markdown",
   "metadata": {},
   "source": [
    "# Quarter Finals Prediction"
   ]
  },
  {
   "cell_type": "code",
   "execution_count": 102,
   "metadata": {},
   "outputs": [
    {
     "data": {
      "text/html": [
       "<div>\n",
       "<style scoped>\n",
       "    .dataframe tbody tr th:only-of-type {\n",
       "        vertical-align: middle;\n",
       "    }\n",
       "\n",
       "    .dataframe tbody tr th {\n",
       "        vertical-align: top;\n",
       "    }\n",
       "\n",
       "    .dataframe thead th {\n",
       "        text-align: right;\n",
       "    }\n",
       "</style>\n",
       "<table border=\"1\" class=\"dataframe\">\n",
       "  <thead>\n",
       "    <tr style=\"text-align: right;\">\n",
       "      <th></th>\n",
       "      <th>Home</th>\n",
       "      <th>Score</th>\n",
       "      <th>Away</th>\n",
       "      <th>Year</th>\n",
       "      <th>Winner</th>\n",
       "    </tr>\n",
       "  </thead>\n",
       "  <tbody>\n",
       "    <tr>\n",
       "      <th>44</th>\n",
       "      <td>Spain</td>\n",
       "      <td>Match 45</td>\n",
       "      <td>Germany</td>\n",
       "      <td>2024</td>\n",
       "      <td>Spain</td>\n",
       "    </tr>\n",
       "    <tr>\n",
       "      <th>45</th>\n",
       "      <td>Portugal</td>\n",
       "      <td>Match 46</td>\n",
       "      <td>France</td>\n",
       "      <td>2024</td>\n",
       "      <td>Portugal</td>\n",
       "    </tr>\n",
       "    <tr>\n",
       "      <th>46</th>\n",
       "      <td>England</td>\n",
       "      <td>Match 48</td>\n",
       "      <td>Italy</td>\n",
       "      <td>2024</td>\n",
       "      <td>Italy</td>\n",
       "    </tr>\n",
       "    <tr>\n",
       "      <th>47</th>\n",
       "      <td>Belgium</td>\n",
       "      <td>Match 47</td>\n",
       "      <td>Netherlands</td>\n",
       "      <td>2024</td>\n",
       "      <td>Netherlands</td>\n",
       "    </tr>\n",
       "  </tbody>\n",
       "</table>\n",
       "</div>"
      ],
      "text/plain": [
       "        Home     Score         Away  Year       Winner\n",
       "44     Spain  Match 45      Germany  2024        Spain\n",
       "45  Portugal  Match 46       France  2024     Portugal\n",
       "46   England  Match 48        Italy  2024        Italy\n",
       "47   Belgium  Match 47  Netherlands  2024  Netherlands"
      ]
     },
     "execution_count": 102,
     "metadata": {},
     "output_type": "execute_result"
    }
   ],
   "source": [
    "update_table(df_fixture_knockout_stage, df_fixture_quarter_finals)\n",
    "get_winner(df_fixture_quarter_finals)"
   ]
  },
  {
   "cell_type": "markdown",
   "metadata": {},
   "source": [
    "# Semi Finals Prediction"
   ]
  },
  {
   "cell_type": "code",
   "execution_count": 103,
   "metadata": {},
   "outputs": [
    {
     "data": {
      "text/html": [
       "<div>\n",
       "<style scoped>\n",
       "    .dataframe tbody tr th:only-of-type {\n",
       "        vertical-align: middle;\n",
       "    }\n",
       "\n",
       "    .dataframe tbody tr th {\n",
       "        vertical-align: top;\n",
       "    }\n",
       "\n",
       "    .dataframe thead th {\n",
       "        text-align: right;\n",
       "    }\n",
       "</style>\n",
       "<table border=\"1\" class=\"dataframe\">\n",
       "  <thead>\n",
       "    <tr style=\"text-align: right;\">\n",
       "      <th></th>\n",
       "      <th>Home</th>\n",
       "      <th>Score</th>\n",
       "      <th>Away</th>\n",
       "      <th>Year</th>\n",
       "      <th>Winner</th>\n",
       "    </tr>\n",
       "  </thead>\n",
       "  <tbody>\n",
       "    <tr>\n",
       "      <th>48</th>\n",
       "      <td>Spain</td>\n",
       "      <td>Match 49</td>\n",
       "      <td>Portugal</td>\n",
       "      <td>2024</td>\n",
       "      <td>Spain</td>\n",
       "    </tr>\n",
       "    <tr>\n",
       "      <th>49</th>\n",
       "      <td>Netherlands</td>\n",
       "      <td>Match 50</td>\n",
       "      <td>Italy</td>\n",
       "      <td>2024</td>\n",
       "      <td>Italy</td>\n",
       "    </tr>\n",
       "  </tbody>\n",
       "</table>\n",
       "</div>"
      ],
      "text/plain": [
       "           Home     Score      Away  Year Winner\n",
       "48        Spain  Match 49  Portugal  2024  Spain\n",
       "49  Netherlands  Match 50     Italy  2024  Italy"
      ]
     },
     "execution_count": 103,
     "metadata": {},
     "output_type": "execute_result"
    }
   ],
   "source": [
    "update_table(df_fixture_quarter_finals, df_fixture_semi_finals)\n",
    "get_winner(df_fixture_semi_finals)"
   ]
  },
  {
   "cell_type": "markdown",
   "metadata": {},
   "source": [
    "# Final Prediction"
   ]
  },
  {
   "cell_type": "code",
   "execution_count": 104,
   "metadata": {},
   "outputs": [
    {
     "data": {
      "text/html": [
       "<div>\n",
       "<style scoped>\n",
       "    .dataframe tbody tr th:only-of-type {\n",
       "        vertical-align: middle;\n",
       "    }\n",
       "\n",
       "    .dataframe tbody tr th {\n",
       "        vertical-align: top;\n",
       "    }\n",
       "\n",
       "    .dataframe thead th {\n",
       "        text-align: right;\n",
       "    }\n",
       "</style>\n",
       "<table border=\"1\" class=\"dataframe\">\n",
       "  <thead>\n",
       "    <tr style=\"text-align: right;\">\n",
       "      <th></th>\n",
       "      <th>Home</th>\n",
       "      <th>Score</th>\n",
       "      <th>Away</th>\n",
       "      <th>Year</th>\n",
       "      <th>Winner</th>\n",
       "    </tr>\n",
       "  </thead>\n",
       "  <tbody>\n",
       "    <tr>\n",
       "      <th>50</th>\n",
       "      <td>Spain</td>\n",
       "      <td>Match 51</td>\n",
       "      <td>Italy</td>\n",
       "      <td>2024</td>\n",
       "      <td>Italy</td>\n",
       "    </tr>\n",
       "  </tbody>\n",
       "</table>\n",
       "</div>"
      ],
      "text/plain": [
       "     Home     Score   Away  Year Winner\n",
       "50  Spain  Match 51  Italy  2024  Italy"
      ]
     },
     "execution_count": 104,
     "metadata": {},
     "output_type": "execute_result"
    }
   ],
   "source": [
    "update_table(df_fixture_semi_finals, df_fixture_final)\n",
    "get_winner(df_fixture_final)"
   ]
  }
 ],
 "metadata": {
  "kernelspec": {
   "display_name": "Python 3",
   "language": "python",
   "name": "python3"
  },
  "language_info": {
   "codemirror_mode": {
    "name": "ipython",
    "version": 3
   },
   "file_extension": ".py",
   "mimetype": "text/x-python",
   "name": "python",
   "nbconvert_exporter": "python",
   "pygments_lexer": "ipython3",
   "version": "3.11.4"
  }
 },
 "nbformat": 4,
 "nbformat_minor": 2
}
